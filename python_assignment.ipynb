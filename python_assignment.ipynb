{
 "cells": [
  {
   "cell_type": "code",
   "execution_count": 73,
   "metadata": {},
   "outputs": [
    {
     "name": "stdout",
     "output_type": "stream",
     "text": [
      "5 * 1  =  5\n",
      "5 * 2  =  10\n",
      "5 * 3  =  15\n",
      "5 * 4  =  20\n",
      "5 * 5  =  25\n",
      "5 * 6  =  30\n",
      "5 * 7  =  35\n",
      "5 * 8  =  40\n",
      "5 * 9  =  45\n",
      "5 * 10  =  50\n"
     ]
    }
   ],
   "source": [
    "#Question 1\n",
    "\n",
    "n = int(input(\"Please enter a number : \"))\n",
    "\n",
    "def multiplicationTable(n):\n",
    "    for i in range(1,11):\n",
    "        print(n,'*',i,' = ',n*i)\n",
    "\n",
    "\n",
    "multiplicationTable(n)"
   ]
  },
  {
   "cell_type": "code",
   "execution_count": null,
   "metadata": {},
   "outputs": [
    {
     "name": "stdout",
     "output_type": "stream",
     "text": [
      "[3, 5]\n",
      "[5, 7]\n",
      "[11, 13]\n",
      "[17, 19]\n",
      "[29, 31]\n",
      "[41, 43]\n",
      "[59, 61]\n",
      "[71, 73]\n",
      "[101, 103]\n",
      "[107, 109]\n",
      "[137, 139]\n",
      "[149, 151]\n",
      "[179, 181]\n",
      "[191, 193]\n",
      "[197, 199]\n",
      "[227, 229]\n",
      "[239, 241]\n",
      "[269, 271]\n",
      "[281, 283]\n",
      "[311, 313]\n",
      "[347, 349]\n",
      "[419, 421]\n",
      "[431, 433]\n",
      "[461, 463]\n",
      "[521, 523]\n",
      "[569, 571]\n",
      "[599, 601]\n",
      "[617, 619]\n",
      "[641, 643]\n",
      "[659, 661]\n",
      "[809, 811]\n",
      "[821, 823]\n",
      "[827, 829]\n",
      "[857, 859]\n",
      "[881, 883]\n"
     ]
    }
   ],
   "source": [
    "#Question 2\n",
    "\n",
    "start = 0\n",
    "end = 1000\n",
    "list = []\n",
    "twinPrimes = []\n",
    "\n",
    "for num in range(start, end + 1):\n",
    "   if num > 1:\n",
    "       for i in range(2, num):\n",
    "           if (num % i) == 0:\n",
    "               break\n",
    "       else:\n",
    "        #    print(num)\n",
    "           list.append(num)\n",
    "\n",
    "#print(list)\n",
    "\n",
    "for i in range(len(list) - 1):\n",
    "    value = list[i:i+2]\n",
    "    #print(value)\n",
    "    #list of 2-2 elements\n",
    "    if(value[1] - value[0] == 2):\n",
    "        twinPrimes.append(value)\n",
    "\n",
    "\n",
    "for n in twinPrimes:\n",
    "    print(n)\n",
    "\n",
    "#https://byjus.com/maths/what-are-twin-primes/ check for reference of all twin primes"
   ]
  },
  {
   "cell_type": "code",
   "execution_count": null,
   "metadata": {},
   "outputs": [
    {
     "name": "stdout",
     "output_type": "stream",
     "text": [
      "2 2 2 7 "
     ]
    }
   ],
   "source": [
    "#Question 3\n",
    "\n",
    "def primeFactors(n):\n",
    " \n",
    "    c = 2\n",
    "    while(n > 1):\n",
    " \n",
    "        if(n % c == 0):\n",
    "            print(c, end=\" \")\n",
    "            n = n / c\n",
    "        else:\n",
    "            c = c + 1\n",
    " \n",
    " \n",
    "n = int(input(\"Enter number of which you want to find prime factors : \"))\n",
    "primeFactors(n)"
   ]
  },
  {
   "cell_type": "code",
   "execution_count": null,
   "metadata": {},
   "outputs": [
    {
     "name": "stdout",
     "output_type": "stream",
     "text": [
      "p(12,2) = 132\n",
      "c(12,2) = 66\n"
     ]
    }
   ],
   "source": [
    "#Question 4\n",
    "\n",
    "n = int(input(\"Enter value of n : \"))\n",
    "r = int(input(\"Enter value of r : \"))\n",
    "\n",
    "\n",
    "def factoial(n):\n",
    "    mult = 1\n",
    "    for i in range(1,n+1):\n",
    "        mult = mult * i\n",
    "    return mult\n",
    "\n",
    "def Permutation(n,r):\n",
    "    numerator = factoial(n)\n",
    "    d = n - r\n",
    "    denominator = factoial(d)\n",
    "    return (numerator/denominator)\n",
    "\n",
    "print(\"p({0},{1}) = {2}\".format(n,r,int(Permutation(n,r))))\n",
    "\n",
    "def combination(n,r):\n",
    "    numerator = Permutation(n,r)\n",
    "    denominator = factoial(r)\n",
    "    # print(numerator)\n",
    "    # print(denominator)\n",
    "    return (numerator/denominator)\n",
    "\n",
    "print(\"c({0},{1}) = {2}\".format(n,r,int(combination(n,r))))\n"
   ]
  },
  {
   "cell_type": "code",
   "execution_count": 48,
   "metadata": {},
   "outputs": [
    {
     "name": "stdout",
     "output_type": "stream",
     "text": [
      "binary of 24 is : \n",
      "011000"
     ]
    }
   ],
   "source": [
    "#Question 5\n",
    "\n",
    "def DecimalToBinary(num):\n",
    "     \n",
    "    if num >= 1:\n",
    "        DecimalToBinary(num // 2)\n",
    "    print(num % 2, end = '')\n",
    "\n",
    "n = int(input(\"Enter number of which you want to find binary : \"))\n",
    "print(\"Binary of\",n,\"is : \")\n",
    "DecimalToBinary(n)\n"
   ]
  },
  {
   "cell_type": "code",
   "execution_count": 70,
   "metadata": {},
   "outputs": [
    {
     "name": "stdout",
     "output_type": "stream",
     "text": [
      "Is 153 an armstrong number:  True\n",
      "Armstrong:  [0, 1, 153, 370, 371, 407]\n"
     ]
    }
   ],
   "source": [
    "#Question 6\n",
    "\n",
    "def cubesum(num):\n",
    "    sum = 0\n",
    "    temp = num\n",
    "    while temp > 0:\n",
    "        digit = temp % 10\n",
    "        sum += digit ** 3 # digit ** 3\n",
    "        temp //= 10\n",
    "    return sum\n",
    "\n",
    "def isArmstrong(num):\n",
    "    if cubesum(num) == num:\n",
    "        return True\n",
    "    else:\n",
    "        return False\n",
    "\n",
    "def printArmstrong(num):\n",
    "    armstrong = []\n",
    "    for n in range(num):\n",
    "        if isArmstrong(n):\n",
    "            armstrong.append(n)\n",
    "    return armstrong\n",
    "    \n",
    "\n",
    "\n",
    "print(\"Is 153 an armstrong number: \", isArmstrong(153))\n",
    "print(\"Armstrong: \", printArmstrong(1000))"
   ]
  },
  {
   "cell_type": "code",
   "execution_count": 72,
   "metadata": {},
   "outputs": [
    {
     "name": "stdout",
     "output_type": "stream",
     "text": [
      "Product of all digits of 54 is: 20\n"
     ]
    }
   ],
   "source": [
    "#Question 7\n",
    "\n",
    "def prodDigits(num):\n",
    "    tmp = num\n",
    "    p = 1\n",
    "    while tmp > 0:\n",
    "        digit = tmp % 10\n",
    "        p *= digit\n",
    "        tmp //= 10\n",
    "    return p\n",
    "\n",
    "\n",
    "num = int(input(\"Enter a number: \"))\n",
    "print(\"Product of all digits of {0} is: {1}\".format(num, prodDigits(num)))"
   ]
  },
  {
   "cell_type": "code",
   "execution_count": 97,
   "metadata": {},
   "outputs": [
    {
     "name": "stdout",
     "output_type": "stream",
     "text": [
      "For 341 MDR is 2 and M Persistance is 2\n"
     ]
    }
   ],
   "source": [
    "#Question 8\n",
    "\n",
    "def MDR(num):\n",
    "    s = str(num)\n",
    "    pers = 0\n",
    "    while len(s) > 1:\n",
    "        s = str(prodDigits(int(s)))\n",
    "        pers += 1\n",
    "    return int(s), pers\n",
    "\n",
    "num = int(input(\"Enter number :\"))\n",
    "mdr, mper = MDR(num)\n",
    "print(\"For {0} MDR is {1} and M Persistance is {2}\".format(num, mdr, mper))"
   ]
  },
  {
   "cell_type": "code",
   "execution_count": 1,
   "metadata": {},
   "outputs": [
    {
     "name": "stdout",
     "output_type": "stream",
     "text": [
      "Entered number is  36\n"
     ]
    },
    {
     "data": {
      "text/plain": [
       "55"
      ]
     },
     "execution_count": 1,
     "metadata": {},
     "output_type": "execute_result"
    }
   ],
   "source": [
    "#Question 9\n",
    "\n",
    "def sumPdivisors(num):\n",
    "    divisors = []\n",
    "    for i in range(1, num):        \n",
    "        if num % i == 0:\n",
    "#             print(\"{0} is divisible by {1}\".format(num, i))\n",
    "            divisors.append(i)\n",
    "    return sum(divisors)\n",
    "            \n",
    "n = int(input(\"Enter number of which you want to find proper divisor :\"))\n",
    "print(\"Entered number is \",n)\n",
    "sumPdivisors(n)"
   ]
  },
  {
   "cell_type": "code",
   "execution_count": 2,
   "metadata": {},
   "outputs": [
    {
     "name": "stdout",
     "output_type": "stream",
     "text": [
      "0\n",
      "6\n",
      "28\n"
     ]
    }
   ],
   "source": [
    "#Question 10\n",
    "\n",
    "def isPerfect(num):\n",
    "    return num == sumPdivisors(num)\n",
    "\n",
    "def perfectNums(lower, upper):\n",
    "    for i in range(lower, upper):\n",
    "        if isPerfect(i):\n",
    "            print(i)\n",
    "            \n",
    "perfectNums(0,100)"
   ]
  },
  {
   "cell_type": "code",
   "execution_count": 98,
   "metadata": {},
   "outputs": [
    {
     "name": "stdout",
     "output_type": "stream",
     "text": [
      "220 284\n"
     ]
    }
   ],
   "source": [
    "#Question 11\n",
    "\n",
    "def amicableNum(lower, upper):\n",
    "    for i in range(lower, upper+1):\n",
    "        for j in range(i, upper+1):\n",
    "            if i != j:\n",
    "                if amicablePair(i, j):\n",
    "                    print(i, j)\n",
    "        \n",
    "def amicablePair(num1, num2):\n",
    "    return (sumPdivisors(num1) == num2) and (sumPdivisors(num2) == num1)\n",
    "\n",
    "amicableNum(1, 1000)\n",
    "\n",
    "# for i in range(2,5):\n",
    "#     for j in range(i,5):\n",
    "#         if i != j:\n",
    "#             print(1)\n",
    "#         else:\n",
    "#             print(2)"
   ]
  },
  {
   "cell_type": "code",
   "execution_count": 84,
   "metadata": {},
   "outputs": [
    {
     "name": "stdout",
     "output_type": "stream",
     "text": [
      "5\n",
      "19\n",
      "95\n"
     ]
    }
   ],
   "source": [
    "#Question 12\n",
    "\n",
    "def odd(num):\n",
    "     if(num%2 != 0):\n",
    "         print(num)\n",
    "\n",
    "numlist = [0,2,5,8,19,20,34,95]\n",
    "filterOdd = filter(odd,numlist)\n",
    "\n",
    "for i in filterOdd:\n",
    "    print(i)"
   ]
  },
  {
   "cell_type": "code",
   "execution_count": 87,
   "metadata": {},
   "outputs": [
    {
     "name": "stdout",
     "output_type": "stream",
     "text": [
      "1\n",
      "27\n",
      "125\n",
      "729\n",
      "3375\n"
     ]
    }
   ],
   "source": [
    "#Question 13\n",
    "\n",
    "\n",
    "def cube(lst):\n",
    "    return map(lambda x: x**3, lst)\n",
    "\n",
    "cubes = cube([1, 3, 5, 9, 15])\n",
    "\n",
    "for i in cubes:\n",
    "    print(i)"
   ]
  },
  {
   "cell_type": "code",
   "execution_count": 95,
   "metadata": {},
   "outputs": [
    {
     "name": "stdout",
     "output_type": "stream",
     "text": [
      "0\n",
      "8\n",
      "512\n",
      "8000\n",
      "39304\n"
     ]
    }
   ],
   "source": [
    "#Question 14\n",
    "\n",
    "\n",
    "def cube(lst):\n",
    "    return map(lambda x: x**3, lst)\n",
    "\n",
    "cubes = cube([0,2,5,8,19,20,34,95])\n",
    "\n",
    "def even(num):\n",
    "     if(num%2 == 0):\n",
    "         print(num)\n",
    "\n",
    "filtereven = filter(even,cubes)\n",
    "\n",
    "for i in filtereven:\n",
    "    print(i)"
   ]
  }
 ],
 "metadata": {
  "interpreter": {
   "hash": "512156ff82ce817cb74e3c3f1a6d3f7b8078d5977c7acd2492f212871949eae9"
  },
  "kernelspec": {
   "display_name": "Python 3.8.7 64-bit",
   "language": "python",
   "name": "python3"
  },
  "language_info": {
   "codemirror_mode": {
    "name": "ipython",
    "version": 3
   },
   "file_extension": ".py",
   "mimetype": "text/x-python",
   "name": "python",
   "nbconvert_exporter": "python",
   "pygments_lexer": "ipython3",
   "version": "3.8.7"
  },
  "orig_nbformat": 4
 },
 "nbformat": 4,
 "nbformat_minor": 2
}
